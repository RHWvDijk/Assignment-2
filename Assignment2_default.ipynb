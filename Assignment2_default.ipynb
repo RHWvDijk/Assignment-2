{
 "cells": [
  {
   "cell_type": "code",
   "execution_count": 1,
   "metadata": {},
   "outputs": [
    {
     "name": "stderr",
     "output_type": "stream",
     "text": [
      "C:\\Users\\Daniel\\Anaconda3\\lib\\site-packages\\h5py\\__init__.py:36: FutureWarning: Conversion of the second argument of issubdtype from `float` to `np.floating` is deprecated. In future, it will be treated as `np.float64 == np.dtype(float).type`.\n",
      "  from ._conv import register_converters as _register_converters\n",
      "Using TensorFlow backend.\n"
     ]
    }
   ],
   "source": [
    "\"\"\"\n",
    "TU/e BME Project Imaging 2019\n",
    "Simple multiLayer perceptron code for MNIST\n",
    "Author: Suzanne Wetstein\n",
    "\"\"\"\n",
    "\n",
    "import numpy as np\n",
    "import matplotlib.pyplot as plt\n",
    "import tensorflow as tf\n",
    "from sklearn.model_selection import train_test_split\n",
    "from keras.datasets import mnist\n",
    "from keras.utils import np_utils\n",
    "from keras.models import Sequential\n",
    "from keras.layers import Flatten, Dense\n",
    "from keras.callbacks import TensorBoard"
   ]
  },
  {
   "cell_type": "code",
   "execution_count": 2,
   "metadata": {},
   "outputs": [],
   "source": [
    "# load the dataset using the builtin Keras method\n",
    "(X_train, y_train), (X_test, y_test) = mnist.load_data()\n",
    "\n",
    "# derive a validation set from the training set\n",
    "# the original training set is split into \n",
    "# new training set (90%) and a validation set (10%)\n",
    "X_train, X_val = train_test_split(X_train, test_size=0.10, random_state=101)\n",
    "y_train, y_val = train_test_split(y_train, test_size=0.10, random_state=101)\n",
    "\n",
    "# the shape of the data matrix is NxHxW, where\n",
    "# N is the number of images,\n",
    "# H and W are the height and width of the images\n",
    "# keras expect the data to have shape NxHxWxH, where\n",
    "# C is the channel dimension\n",
    "X_train = np.reshape(X_train, (-1,28,28,1)) \n",
    "X_val = np.reshape(X_val, (-1,28,28,1))\n",
    "X_test = np.reshape(X_test, (-1,28,28,1))\n",
    "\n",
    "\n",
    "# convert the datatype to float32\n",
    "X_train = X_train.astype('float32')\n",
    "X_val = X_val.astype('float32')\n",
    "X_test = X_test.astype('float32')\n",
    "\n",
    "\n",
    "# normalize our data values to the range [0,1]\n",
    "X_train /= 255\n",
    "X_val /= 255\n",
    "X_test /= 255\n",
    "\n",
    "\n",
    "# convert 1D class arrays to 10D class matrices\n",
    "y_train = np_utils.to_categorical(y_train, 10)\n",
    "y_val = np_utils.to_categorical(y_val, 10)\n",
    "y_test = np_utils.to_categorical(y_test, 10)\n",
    "\n",
    "\n",
    "model = Sequential()\n",
    "# flatten the 28x28x1 pixel input images to a row of pixels (a 1D-array)\n",
    "model.add(Flatten(input_shape=(28,28,1))) \n",
    "# fully connected layer with 64 neurons and ReLU nonlinearity\n",
    "model.add(Dense(64, activation='relu'))\n",
    "\n",
    "# output layer with 10 nodes (one for each class) and softmax nonlinearity\n",
    "model.add(Dense(10, activation='softmax')) \n",
    "\n",
    "\n",
    "# compile the model\n",
    "model.compile(loss='categorical_crossentropy', optimizer='sgd', metrics=['accuracy'])\n",
    "\n",
    "# use this variable to name your model\n",
    "model_name=\"Test model\"\n",
    "\n",
    "# create a way to monitor our model in Tensorboard\n",
    "tensorboard = TensorBoard(\"logs/\" + model_name)"
   ]
  },
  {
   "cell_type": "code",
   "execution_count": 3,
   "metadata": {},
   "outputs": [
    {
     "name": "stdout",
     "output_type": "stream",
     "text": [
      "Train on 54000 samples, validate on 6000 samples\n",
      "Epoch 1/10\n",
      "54000/54000 [==============================] - 5s 99us/step - loss: 0.7081 - acc: 0.8222 - val_loss: 0.4180 - val_acc: 0.8823\n",
      "Epoch 2/10\n",
      "54000/54000 [==============================] - 5s 90us/step - loss: 0.3558 - acc: 0.9012 - val_loss: 0.3467 - val_acc: 0.8993\n",
      "Epoch 3/10\n",
      "54000/54000 [==============================] - 5s 91us/step - loss: 0.3083 - acc: 0.9122 - val_loss: 0.3125 - val_acc: 0.9113\n",
      "Epoch 4/10\n",
      "54000/54000 [==============================] - 5s 88us/step - loss: 0.2804 - acc: 0.9200 - val_loss: 0.2873 - val_acc: 0.9198\n",
      "Epoch 5/10\n",
      "54000/54000 [==============================] - 5s 87us/step - loss: 0.2592 - acc: 0.9268 - val_loss: 0.2686 - val_acc: 0.9255\n",
      "Epoch 6/10\n",
      "54000/54000 [==============================] - 5s 86us/step - loss: 0.2416 - acc: 0.9317 - val_loss: 0.2536 - val_acc: 0.9298\n",
      "Epoch 7/10\n",
      "54000/54000 [==============================] - 5s 84us/step - loss: 0.2269 - acc: 0.9359 - val_loss: 0.2417 - val_acc: 0.9333\n",
      "Epoch 8/10\n",
      "54000/54000 [==============================] - 5s 84us/step - loss: 0.2137 - acc: 0.9394 - val_loss: 0.2287 - val_acc: 0.9372\n",
      "Epoch 9/10\n",
      "54000/54000 [==============================] - 5s 87us/step - loss: 0.2027 - acc: 0.9425 - val_loss: 0.2217 - val_acc: 0.9375\n",
      "Epoch 10/10\n",
      "54000/54000 [==============================] - 5s 89us/step - loss: 0.1926 - acc: 0.9453 - val_loss: 0.2125 - val_acc: 0.9403\n",
      "Loss:  0.19244957932978868\n",
      "Accuracy:  0.9447\n"
     ]
    }
   ],
   "source": [
    "# train the model\n",
    "model.fit(X_train, y_train, batch_size=32, epochs=10, verbose=1, validation_data=(X_val, y_val), callbacks=[tensorboard])\n",
    "score = model.evaluate(X_test, y_test, verbose=0)\n",
    "model.save('num_reader.model')\n",
    "\n",
    "print(\"Loss: \",score[0])\n",
    "print(\"Accuracy: \",score[1])"
   ]
  },
  {
   "cell_type": "markdown",
   "metadata": {},
   "source": [
    "# Checking predictions"
   ]
  },
  {
   "cell_type": "code",
   "execution_count": 4,
   "metadata": {},
   "outputs": [
    {
     "data": {
      "text/plain": [
       "0"
      ]
     },
     "execution_count": 4,
     "metadata": {},
     "output_type": "execute_result"
    }
   ],
   "source": [
    "new = tf.keras.models.load_model('num_reader.model')\n",
    "predictions = new.predict([X_test])\n",
    "np.argmax(predictions[55]) #return index of max value "
   ]
  },
  {
   "cell_type": "code",
   "execution_count": 5,
   "metadata": {},
   "outputs": [
    {
     "data": {
      "image/png": "[encoded data removed]",
      "text/plain": [
       "<Figure size 432x288 with 1 Axes>"
      ]
     },
     "metadata": {},
     "output_type": "display_data"
    }
   ],
   "source": [
    "test = np.resize(X_test[55],(28,28))\n",
    "plt.imshow(test)\n",
    "plt.show()\n"
   ]
  }
 ],
 "metadata": {
  "kernelspec": {
   "display_name": "Python 3",
   "language": "python",
   "name": "python3"
  },
  "language_info": {
   "codemirror_mode": {
    "name": "ipython",
    "version": 3
   },
   "file_extension": ".py",
   "mimetype": "text/x-python",
   "name": "python",
   "nbconvert_exporter": "python",
   "pygments_lexer": "ipython3",
   "version": "3.6.5"
  }
 },
 "nbformat": 4,
 "nbformat_minor": 2
}
