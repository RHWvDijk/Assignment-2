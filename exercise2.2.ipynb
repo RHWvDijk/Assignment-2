{
 "cells": [
  {
   "cell_type": "markdown",
   "metadata": {},
   "source": [
    "# Assignment 2 Exercise 2\n",
    "# Group 3  "
   ]
  },
  {
   "cell_type": "markdown",
   "metadata": {},
   "source": [
    "Importing relevant modules"
   ]
  },
  {
   "cell_type": "code",
   "execution_count": 1,
   "metadata": {},
   "outputs": [
    {
     "name": "stderr",
     "output_type": "stream",
     "text": [
      "Using TensorFlow backend.\n"
     ]
    }
   ],
   "source": [
    "import numpy as np\n",
    "import matplotlib.pyplot as plt\n",
    "import tensorflow as tf\n",
    "from sklearn.model_selection import train_test_split\n",
    "from keras.datasets import mnist\n",
    "from keras.utils import np_utils\n",
    "from keras.models import Sequential\n",
    "from keras.layers import Flatten, Dense\n",
    "from keras.callbacks import TensorBoard"
   ]
  },
  {
   "cell_type": "markdown",
   "metadata": {},
   "source": [
    "Reshaping and normalizing the data"
   ]
  },
  {
   "cell_type": "code",
   "execution_count": 2,
   "metadata": {},
   "outputs": [],
   "source": [
    "# load the dataset using the builtin Keras method\n",
    "(X_train, y_train), (X_test, y_test) = mnist.load_data()\n",
    "\n",
    "# derive a validation set from the training set\n",
    "# the original training set is split into \n",
    "# new training set (90%) and a validation set (10%)\n",
    "X_train, X_val = train_test_split(X_train, test_size=0.10, random_state=101)\n",
    "y_train, y_val = train_test_split(y_train, test_size=0.10, random_state=101)\n",
    "\n",
    "# the shape of the data matrix is NxHxW, where\n",
    "# N is the number of images,\n",
    "# H and W are the height and width of the images\n",
    "# keras expect the data to have shape NxHxWxH, where\n",
    "# C is the channel dimension\n",
    "X_train = np.reshape(X_train, (-1,28,28,1)) \n",
    "X_val = np.reshape(X_val, (-1,28,28,1))\n",
    "X_test = np.reshape(X_test, (-1,28,28,1))\n",
    "\n",
    "# convert the datatype to float32\n",
    "X_train = X_train.astype('float32')\n",
    "X_val = X_val.astype('float32')\n",
    "X_test = X_test.astype('float32')\n",
    "\n",
    "# normalize our data values to the range [0,1]\n",
    "X_train /= 255\n",
    "X_val /= 255\n",
    "X_test /= 255\n",
    "\n",
    "# convert 1D class arrays to 10D class matrices\n",
    "y_train = np_utils.to_categorical(y_train, 10)\n",
    "y_val = np_utils.to_categorical(y_val, 10)\n",
    "y_test = np_utils.to_categorical(y_test, 10)"
   ]
  },
  {
   "cell_type": "markdown",
   "metadata": {},
   "source": [
    "Defining the model. The amount of neurons can be changed and additional layers can be added below.\n",
    "For this exercise the middle dense layers can be removed to connect input directly to output. \n",
    "Removing the activation removes the non-linearity between layers."
   ]
  },
  {
   "cell_type": "code",
   "execution_count": 3,
   "metadata": {},
   "outputs": [
    {
     "name": "stdout",
     "output_type": "stream",
     "text": [
      "_________________________________________________________________\n",
      "Layer (type)                 Output Shape              Param #   \n",
      "=================================================================\n",
      "flatten_1 (Flatten)          (None, 784)               0         \n",
      "_________________________________________________________________\n",
      "dense_1 (Dense)              (None, 64)                50240     \n",
      "_________________________________________________________________\n",
      "dense_2 (Dense)              (None, 64)                4160      \n",
      "_________________________________________________________________\n",
      "dense_3 (Dense)              (None, 64)                4160      \n",
      "_________________________________________________________________\n",
      "dense_4 (Dense)              (None, 10)                650       \n",
      "=================================================================\n",
      "Total params: 59,210\n",
      "Trainable params: 59,210\n",
      "Non-trainable params: 0\n",
      "_________________________________________________________________\n"
     ]
    }
   ],
   "source": [
    "model = Sequential()\n",
    "model.add(Flatten(input_shape=(28,28,1)))   # flatten the 28x28x1 pixel input images to a row of pixels (a 1D-array)\n",
    "model.add(Dense(64, activation=None)) # fully connected layer with 64 neurons and ReLU nonlinearity\n",
    "model.add(Dense(64, activation=None)) # fully connected layer with 64 neurons and ReLU nonlinearity\n",
    "model.add(Dense(64, activation=None)) # fully connected layer with 64 neurons and ReLU nonlinearity\n",
    "model.add(Dense(10, activation='softmax'))  # output layer with 10 nodes (one for each class) and softmax nonlinearity\n",
    "model.compile(loss='categorical_crossentropy', optimizer='sgd', metrics=['accuracy']) # compile the model\n",
    "model_name=\"Three layer 64 neurons no activation\"\n",
    "model.summary()"
   ]
  },
  {
   "cell_type": "markdown",
   "metadata": {},
   "source": [
    "Logging the training process and training our model"
   ]
  },
  {
   "cell_type": "code",
   "execution_count": 4,
   "metadata": {},
   "outputs": [
    {
     "name": "stdout",
     "output_type": "stream",
     "text": [
      "Train on 54000 samples, validate on 6000 samples\n",
      "Epoch 1/10\n",
      "54000/54000 [==============================] - 6s 116us/step - loss: 0.5111 - acc: 0.8549 - val_loss: 0.3675 - val_acc: 0.8947\n",
      "Epoch 2/10\n",
      "54000/54000 [==============================] - 6s 111us/step - loss: 0.3259 - acc: 0.9070 - val_loss: 0.3319 - val_acc: 0.9085\n",
      "Epoch 3/10\n",
      "54000/54000 [==============================] - 6s 108us/step - loss: 0.3043 - acc: 0.9132 - val_loss: 0.3172 - val_acc: 0.9123\n",
      "Epoch 4/10\n",
      "54000/54000 [==============================] - 6s 104us/step - loss: 0.2939 - acc: 0.9177 - val_loss: 0.3121 - val_acc: 0.9125\n",
      "Epoch 5/10\n",
      "54000/54000 [==============================] - 6s 104us/step - loss: 0.2858 - acc: 0.9193 - val_loss: 0.3112 - val_acc: 0.9095\n",
      "Epoch 6/10\n",
      "54000/54000 [==============================] - 6s 106us/step - loss: 0.2812 - acc: 0.9211 - val_loss: 0.3094 - val_acc: 0.9117\n",
      "Epoch 7/10\n",
      "54000/54000 [==============================] - 5s 97us/step - loss: 0.2774 - acc: 0.9221 - val_loss: 0.3003 - val_acc: 0.9163\n",
      "Epoch 8/10\n",
      "54000/54000 [==============================] - 5s 98us/step - loss: 0.2740 - acc: 0.9234 - val_loss: 0.3137 - val_acc: 0.9097\n",
      "Epoch 9/10\n",
      "54000/54000 [==============================] - 6s 107us/step - loss: 0.2718 - acc: 0.9242 - val_loss: 0.3163 - val_acc: 0.9143\n",
      "Epoch 10/10\n",
      "54000/54000 [==============================] - 5s 98us/step - loss: 0.2690 - acc: 0.9247 - val_loss: 0.2960 - val_acc: 0.9155\n",
      "Loss:  0.27417428636699914\n",
      "Accuracy:  0.9217\n"
     ]
    }
   ],
   "source": [
    "# create a way to monitor our model in Tensorboard\n",
    "tensorboard = TensorBoard(\"logs/\" + model_name)\n",
    "\n",
    "# train the model\n",
    "model.fit(X_train, y_train, batch_size=32, epochs=10, verbose=1, validation_data=(X_val, y_val), callbacks=[tensorboard])\n",
    "score = model.evaluate(X_test, y_test, verbose=0)\n",
    "model.save('num_reader.model')\n",
    "\n",
    "print(\"Loss: \",score[0])\n",
    "print(\"Accuracy: \",score[1])"
   ]
  },
  {
   "cell_type": "markdown",
   "metadata": {},
   "source": [
    "# Checking predictions"
   ]
  },
  {
   "cell_type": "markdown",
   "metadata": {},
   "source": [
    "The model expects an image with number 0"
   ]
  },
  {
   "cell_type": "code",
   "execution_count": 5,
   "metadata": {},
   "outputs": [
    {
     "data": {
      "text/plain": [
       "0"
      ]
     },
     "execution_count": 5,
     "metadata": {},
     "output_type": "execute_result"
    }
   ],
   "source": [
    "new = tf.keras.models.load_model('num_reader.model')\n",
    "predictions = new.predict([X_test])\n",
    "np.argmax(predictions[55]) #return index of max value "
   ]
  },
  {
   "cell_type": "code",
   "execution_count": 6,
   "metadata": {},
   "outputs": [
    {
     "data": {
      "image/png": "[encoded data removed]",
      "text/plain": [
       "<Figure size 432x288 with 1 Axes>"
      ]
     },
     "metadata": {
      "needs_background": "light"
     },
     "output_type": "display_data"
    }
   ],
   "source": [
    "test = np.resize(X_test[55],(28,28))\n",
    "plt.imshow(test)\n",
    "plt.show()\n"
   ]
  }
 ],
 "metadata": {
  "kernelspec": {
   "display_name": "Python 3",
   "language": "python",
   "name": "python3"
  },
  "language_info": {
   "codemirror_mode": {
    "name": "ipython",
    "version": 3
   },
   "file_extension": ".py",
   "mimetype": "text/x-python",
   "name": "python",
   "nbconvert_exporter": "python",
   "pygments_lexer": "ipython3",
   "version": "3.6.8"
  }
 },
 "nbformat": 4,
 "nbformat_minor": 2
}
