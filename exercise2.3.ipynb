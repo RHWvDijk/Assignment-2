{
 "cells": [
  {
   "cell_type": "markdown",
   "metadata": {},
   "source": [
    "# Assignment 2 Exercise 3\n",
    "# Group 3"
   ]
  },
  {
   "cell_type": "markdown",
   "metadata": {},
   "source": [
    "Importing relevant modules"
   ]
  },
  {
   "cell_type": "code",
   "execution_count": 1,
   "metadata": {},
   "outputs": [
    {
     "name": "stderr",
     "output_type": "stream",
     "text": [
      "Using TensorFlow backend.\n"
     ]
    }
   ],
   "source": [
    "import numpy as np\n",
    "import matplotlib.pyplot as plt\n",
    "import tensorflow as tf\n",
    "from sklearn.model_selection import train_test_split\n",
    "from keras.datasets import mnist\n",
    "from keras.utils import np_utils\n",
    "from keras.models import Sequential\n",
    "from keras.layers import Flatten, Dense\n",
    "from keras.callbacks import TensorBoard"
   ]
  },
  {
   "cell_type": "markdown",
   "metadata": {},
   "source": [
    "The output consists of 4 classes/neurons:\n",
    "\n",
    "\"vertical digits\": 1, 7<br>\n",
    "\"loopy digits\": 0, 6, 8, 9<br>\n",
    "\"curly digits\": 2, 5<br>\n",
    "\"other\": 3, 4<br>\n",
    "\n",
    "The labels of the training data have to be modified in order for the model to be trained. Each number corresponds to a category.\n",
    "\n",
    "0 is \"vertical digit\"<br>\n",
    "1 is \"loopy digit\"<br>\n",
    "2 is \"curly digit\"<br>\n",
    "3 is \"other\"<br>"
   ]
  },
  {
   "cell_type": "markdown",
   "metadata": {},
   "source": [
    "Below we define function that modifies the original labels to the labels for the new categories. Also a function to translate this label to the category is defined"
   ]
  },
  {
   "cell_type": "code",
   "execution_count": 2,
   "metadata": {},
   "outputs": [],
   "source": [
    "def classification_ex3(y): #This function converts the original label to a new label: 1 and 7s become 0 \n",
    "    y_new = [] \n",
    "    for i in y: \n",
    "        if i in (1,7):\n",
    "            y_label = 0 #\"vertical digit\"\n",
    "        elif i in (0,6,8,9):\n",
    "            y_label = 1 #\"loopy digit\"\n",
    "        elif i in (2,5):\n",
    "            y_label = 2 #\"curly digit\"\n",
    "        else:\n",
    "            y_label = 3 #\"other\"\n",
    "        y_new.append(y_label)\n",
    "    return y_new"
   ]
  },
  {
   "cell_type": "code",
   "execution_count": 3,
   "metadata": {},
   "outputs": [],
   "source": [
    "def label2text(l): #This function translates the new label to its corresponding category\n",
    "    newlist=[]\n",
    "    for i in l:\n",
    "        if type(i)!=int:\n",
    "            j=np.argmax(i) \n",
    "            i=j\n",
    "        if i==0:\n",
    "            label=\"vertical digit\"\n",
    "        elif i==1:\n",
    "            label=\"loopy digit\"\n",
    "        elif i==2:\n",
    "            label=\"curly digit\"\n",
    "        elif i==3:\n",
    "            label=\"other\" \n",
    "        newlist.append(label)\n",
    "    return newlist"
   ]
  },
  {
   "cell_type": "markdown",
   "metadata": {},
   "source": [
    "The data is modified here and we print to see if everything is done correctly"
   ]
  },
  {
   "cell_type": "code",
   "execution_count": 4,
   "metadata": {},
   "outputs": [
    {
     "name": "stdout",
     "output_type": "stream",
     "text": [
      "New labels:  [2, 1, 3, 0, 1]\n",
      "Old labels:  [5 0 4 1 9]\n",
      "Class:  ['curly digit', 'loopy digit', 'other', 'vertical digit', 'loopy digit']\n"
     ]
    }
   ],
   "source": [
    "# load the dataset using the builtin Keras method\n",
    "(X_train, y_train), (X_test, y_test) = mnist.load_data()\n",
    "\n",
    "y_newtrain = classification_ex3(y_train)\n",
    "y_newtest = classification_ex3(y_test)\n",
    "print(\"New labels: \",y_newtrain[:5]) #To check if the labels have been modified correctly\n",
    "print(\"Old labels: \",y_train[:5])\n",
    "print(\"Class: \",label2text(y_newtrain[:5]))"
   ]
  },
  {
   "cell_type": "markdown",
   "metadata": {},
   "source": [
    "Reshaping the data in the correct format and defining our model"
   ]
  },
  {
   "cell_type": "code",
   "execution_count": 5,
   "metadata": {},
   "outputs": [],
   "source": [
    "# derive a validation set from the training set\n",
    "# the original training set is split into \n",
    "# new training set (90%) and a validation set (10%)\n",
    "y_train = y_newtrain\n",
    "y_test = y_newtest\n",
    "X_train, X_val = train_test_split(X_train, test_size=0.10, random_state=101)\n",
    "y_train, y_val = train_test_split(y_train, test_size=0.10, random_state=101)\n",
    "\n",
    "# the shape of the data matrix is NxHxW, where\n",
    "# N is the number of images,\n",
    "# H and W are the height and width of the images\n",
    "# keras expect the data to have shape NxHxWxH, where\n",
    "# C is the channel dimension\n",
    "X_train = np.reshape(X_train, (-1,28,28,1)) \n",
    "X_val = np.reshape(X_val, (-1,28,28,1))\n",
    "X_test = np.reshape(X_test, (-1,28,28,1))\n",
    "\n",
    "\n",
    "# convert the datatype to float32\n",
    "X_train = X_train.astype('float32')\n",
    "X_val = X_val.astype('float32')\n",
    "X_test = X_test.astype('float32')\n",
    "\n",
    "\n",
    "# normalize our data values to the range [0,1]\n",
    "X_train /= 255\n",
    "X_val /= 255\n",
    "X_test /= 255\n",
    "\n",
    "\n",
    "# convert 1D class arrays to 10D class matrices -- Unlike the previous exercise we require a 4D class matrix\n",
    "y_train = np_utils.to_categorical(y_train, 4)    \n",
    "y_val = np_utils.to_categorical(y_val, 4)\n",
    "y_test = np_utils.to_categorical(y_test, 4)\n",
    "\n",
    "\n",
    "model = Sequential()\n",
    "# flatten the 28x28x1 pixel input images to a row of pixels (a 1D-array)\n",
    "model.add(Flatten(input_shape=(28,28,1))) \n",
    "# fully connected layer with 64 neurons and ReLU nonlinearity\n",
    "model.add(Dense(64, activation='relu'))\n",
    "\n",
    "# output layer with 10 nodes (one for each class) and softmax nonlinearity --- Instead of 10 nodes, 4 nodes\n",
    "model.add(Dense(4, activation='softmax')) \n",
    "\n",
    "\n",
    "# compile the model\n",
    "model.compile(loss='categorical_crossentropy', optimizer='sgd', metrics=['accuracy'])\n",
    "\n",
    "# use this variable to name your model\n",
    "model_name=\"Ex2.3 - one layer 64 neurons\"\n",
    "\n",
    "# create a way to monitor our model in Tensorboard\n",
    "tensorboard = TensorBoard(\"logs/\" + model_name)\n"
   ]
  },
  {
   "cell_type": "code",
   "execution_count": 6,
   "metadata": {},
   "outputs": [
    {
     "name": "stdout",
     "output_type": "stream",
     "text": [
      "Train on 54000 samples, validate on 6000 samples\n",
      "Epoch 1/10\n",
      "54000/54000 [==============================] - 5s 100us/step - loss: 0.5746 - acc: 0.8009 - val_loss: 0.4145 - val_acc: 0.8628\n",
      "Epoch 2/10\n",
      "54000/54000 [==============================] - 5s 90us/step - loss: 0.3388 - acc: 0.8923 - val_loss: 0.3187 - val_acc: 0.9002\n",
      "Epoch 3/10\n",
      "54000/54000 [==============================] - 5s 85us/step - loss: 0.2670 - acc: 0.9169 - val_loss: 0.2680 - val_acc: 0.9155\n",
      "Epoch 4/10\n",
      "54000/54000 [==============================] - 5s 87us/step - loss: 0.2276 - acc: 0.9300 - val_loss: 0.2365 - val_acc: 0.9270\n",
      "Epoch 5/10\n",
      "54000/54000 [==============================] - 5s 85us/step - loss: 0.2020 - acc: 0.9382 - val_loss: 0.2158 - val_acc: 0.9323\n",
      "Epoch 6/10\n",
      "54000/54000 [==============================] - 5s 86us/step - loss: 0.1828 - acc: 0.9449 - val_loss: 0.2010 - val_acc: 0.9367\n",
      "Epoch 7/10\n",
      "54000/54000 [==============================] - 5s 84us/step - loss: 0.1678 - acc: 0.9492 - val_loss: 0.1884 - val_acc: 0.9415\n",
      "Epoch 8/10\n",
      "54000/54000 [==============================] - 5s 84us/step - loss: 0.1557 - acc: 0.9537 - val_loss: 0.1773 - val_acc: 0.9453\n",
      "Epoch 9/10\n",
      "54000/54000 [==============================] - 5s 87us/step - loss: 0.1457 - acc: 0.9564 - val_loss: 0.1687 - val_acc: 0.9488\n",
      "Epoch 10/10\n",
      "54000/54000 [==============================] - 5s 85us/step - loss: 0.1374 - acc: 0.9589 - val_loss: 0.1623 - val_acc: 0.9502\n",
      "Loss:  0.13643412236198782\n",
      "Accuracy:  0.9576\n"
     ]
    }
   ],
   "source": [
    "# train the model\n",
    "model.fit(X_train, y_train, batch_size=32, epochs=10, verbose=1, validation_data=(X_val, y_val), callbacks=[tensorboard])\n",
    "score = model.evaluate(X_test, y_test, verbose=0)\n",
    "model.save('num_reader.model')\n",
    "\n",
    "print(\"Loss: \",score[0])\n",
    "print(\"Accuracy: \",score[1])"
   ]
  },
  {
   "cell_type": "markdown",
   "metadata": {},
   "source": [
    "# Testing predictions"
   ]
  },
  {
   "cell_type": "markdown",
   "metadata": {},
   "source": [
    "The model is tested on the test data and it puts the 9 in the correct category"
   ]
  },
  {
   "cell_type": "code",
   "execution_count": 7,
   "metadata": {},
   "outputs": [],
   "source": [
    "new = tf.keras.models.load_model('num_reader.model')\n",
    "predictions = new.predict([X_test])\n",
    "np.argmax(predictions[0]) #return index of max value \n",
    "l2t = label2text(y_test)"
   ]
  },
  {
   "cell_type": "code",
   "execution_count": 8,
   "metadata": {},
   "outputs": [
    {
     "data": {
      "image/png": "[encoded data removed]",
      "text/plain": [
       "<Figure size 432x288 with 1 Axes>"
      ]
     },
     "metadata": {
      "needs_background": "light"
     },
     "output_type": "display_data"
    },
    {
     "name": "stdout",
     "output_type": "stream",
     "text": [
      "loopy digit\n"
     ]
    }
   ],
   "source": [
    "q = 8955 #index in test data\n",
    "X_testshow = np.resize(X_test[q],(28,28))\n",
    "plt.imshow(X_testshow)\n",
    "plt.show()\n",
    "print(l2t[q])"
   ]
  }
 ],
 "metadata": {
  "kernelspec": {
   "display_name": "Python 3",
   "language": "python",
   "name": "python3"
  },
  "language_info": {
   "codemirror_mode": {
    "name": "ipython",
    "version": 3
   },
   "file_extension": ".py",
   "mimetype": "text/x-python",
   "name": "python",
   "nbconvert_exporter": "python",
   "pygments_lexer": "ipython3",
   "version": "3.6.8"
  }
 },
 "nbformat": 4,
 "nbformat_minor": 2
}
